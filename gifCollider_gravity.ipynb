{
 "cells": [
  {
   "cell_type": "code",
   "execution_count": 1,
   "id": "5e3a4b1b-835f-468a-92c7-9bf2d2b7cf28",
   "metadata": {},
   "outputs": [],
   "source": [
    "import math\n",
    "from PIL import Image, ImageDraw\n",
    "import random\n",
    "import os"
   ]
  },
  {
   "cell_type": "code",
   "execution_count": 2,
   "id": "07212e25-62a7-4892-97db-684579fc9f80",
   "metadata": {},
   "outputs": [],
   "source": [
    "# Load two GIFs and extract their first frames\n",
    "\n",
    "gif1_path = \"../gif/coolstar.gif\"\n",
    "gif2_path = \"../gif/dollarspindownd.gif\"\n",
    "\n",
    "gif1 = Image.open(gif1_path)\n",
    "gif2 = Image.open(gif2_path)\n",
    "frame1 = gif1.copy().convert(\"RGBA\")  # First frame of GIF 1\n",
    "frame2 = gif2.copy().convert(\"RGBA\")  # First frame of GIF 2\n",
    "gif1_width, gif1_height = frame1.size\n",
    "gif2_width, gif2_height = frame2.size"
   ]
  },
  {
   "cell_type": "code",
   "execution_count": 4,
   "id": "01fb9a40-9252-4c43-b657-a47f3aad3a97",
   "metadata": {},
   "outputs": [
    {
     "name": "stdout",
     "output_type": "stream",
     "text": [
      "Dispersed particles with gravity animation saved in output_dispersion_gravity\n"
     ]
    }
   ],
   "source": [
    "# Set up the output canvas (800x800)\n",
    "canvas_size = 800\n",
    "num_frames = 60\n",
    "output_dir = \"output_dispersion_gravity\"\n",
    "os.makedirs(output_dir, exist_ok=True)\n",
    "\n",
    "# Center positions for both GIFs\n",
    "center_x1, center_y1 = canvas_size // 4, canvas_size // 2  # Left-side center\n",
    "center_x2, center_y2 = 3 * canvas_size // 4, canvas_size // 2  # Right-side center\n",
    "\n",
    "# Particle representation\n",
    "class Particle:\n",
    "    def __init__(self, x, y, color):\n",
    "        self.x = x\n",
    "        self.y = y\n",
    "        self.color = color\n",
    "        # Initial velocity: random dispersion\n",
    "        self.vx = random.uniform(-5, 5)  # Random horizontal velocity\n",
    "        self.vy = random.uniform(-8, -2)  # Random vertical velocity (upward)\n",
    "\n",
    "    def apply_gravity(self, gravity=0.3):\n",
    "        \"\"\"Apply gravity to the particle.\"\"\"\n",
    "        self.vy += gravity\n",
    "\n",
    "    def move(self):\n",
    "        \"\"\"Update particle position based on velocity.\"\"\"\n",
    "        self.x += self.vx\n",
    "        self.y += self.vy\n",
    "\n",
    "# Function to initialize particles\n",
    "def initialize_particles(frame, center_x, center_y):\n",
    "    particles = []\n",
    "    pixels = list(frame.getdata())\n",
    "    width, height = frame.size\n",
    "    for y in range(height):\n",
    "        for x in range(width):\n",
    "            pixel_index = y * width + x\n",
    "            pixel_color = pixels[pixel_index]\n",
    "            start_x = center_x + x - width // 2\n",
    "            start_y = center_y + y - height // 2\n",
    "            particles.append(Particle(start_x, start_y, pixel_color))\n",
    "    return particles\n",
    "\n",
    "# Initialize particles for both GIFs\n",
    "particles1 = initialize_particles(frame1, center_x1, center_y1)\n",
    "particles2 = initialize_particles(frame2, center_x2, center_y2)\n",
    "\n",
    "# Simulate particles for 60 frames\n",
    "for frame_index in range(num_frames):\n",
    "    frame = Image.new(\"RGBA\", (canvas_size, canvas_size), (0, 0, 0, 255))\n",
    "    draw = ImageDraw.Draw(frame)\n",
    "\n",
    "    # Update and draw particles for GIF 1\n",
    "    for particle in particles1:\n",
    "        particle.apply_gravity()  # Apply gravity\n",
    "        particle.move()  # Update position\n",
    "        if 0 <= particle.x < canvas_size and 0 <= particle.y < canvas_size:\n",
    "            draw.point((int(particle.x), int(particle.y)), fill=particle.color)\n",
    "\n",
    "    # Update and draw particles for GIF 2 (overlapping GIF 1)\n",
    "    for particle in particles2:\n",
    "        particle.apply_gravity()  # Apply gravity\n",
    "        particle.move()  # Update position\n",
    "        if 0 <= particle.x < canvas_size and 0 <= particle.y < canvas_size:\n",
    "            draw.point((int(particle.x), int(particle.y)), fill=particle.color)\n",
    "\n",
    "    # Save the frame\n",
    "    frame.save(f\"{output_dir}/frame_{frame_index:03d}.png\")\n",
    "\n",
    "print(f\"Dispersed particles with gravity animation saved in {output_dir}\")\n"
   ]
  },
  {
   "cell_type": "code",
   "execution_count": null,
   "id": "fd303bbb-3307-423b-8c1e-3020477eb676",
   "metadata": {},
   "outputs": [],
   "source": []
  }
 ],
 "metadata": {
  "kernelspec": {
   "display_name": "Python 3 (ipykernel)",
   "language": "python",
   "name": "python3"
  },
  "language_info": {
   "codemirror_mode": {
    "name": "ipython",
    "version": 3
   },
   "file_extension": ".py",
   "mimetype": "text/x-python",
   "name": "python",
   "nbconvert_exporter": "python",
   "pygments_lexer": "ipython3",
   "version": "3.9.6"
  }
 },
 "nbformat": 4,
 "nbformat_minor": 5
}
