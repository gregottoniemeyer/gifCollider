{
 "cells": [
  {
   "cell_type": "code",
   "execution_count": 18,
   "id": "f86bf4fe-12c2-4340-861e-036b76a69077",
   "metadata": {},
   "outputs": [],
   "source": [
    "import os\n",
    "from PIL import Image, ImageSequence, ImageDraw\n",
    "import random\n",
    "import os\n",
    "import math"
   ]
  },
  {
   "cell_type": "code",
   "execution_count": 22,
   "id": "bf882714-62f9-4ebb-adda-ba65c3776c30",
   "metadata": {},
   "outputs": [],
   "source": [
    "# Load two GIFs and extract their first frames\n",
    "gif1_path = \"../gif/coolstar.gif\"\n",
    "gif2_path = \"../gif/dollarspindownd.gif\"\n",
    "gif1 = Image.open(gif1_path)\n",
    "gif2 = Image.open(gif2_path)\n",
    "frame1 = gif1.copy().convert(\"RGBA\")  # First frame of GIF 1\n",
    "frame2 = gif2.copy().convert(\"RGBA\")  # First frame of GIF 2\n",
    "gif1_width, gif1_height = frame1.size\n",
    "gif2_width, gif2_height = frame2.size"
   ]
  },
  {
   "cell_type": "code",
   "execution_count": 24,
   "id": "3401329d-ae22-4d37-8f3a-d2b44b790a10",
   "metadata": {},
   "outputs": [
    {
     "name": "stdout",
     "output_type": "stream",
     "text": [
      "Interpolated frames for both GIFs with logarithmic motion saved in ../gif/interpolated_dual_frames\n"
     ]
    }
   ],
   "source": [
    "# Set up the output canvas (800x800)\n",
    "canvas_size = 800\n",
    "num_frames = 30\n",
    "output_dir = \"../gif/interpolated_dual_frames\"\n",
    "os.makedirs(output_dir, exist_ok=True)\n",
    "\n",
    "# Center positions for both GIFs\n",
    "center_x1, center_y1 = canvas_size // 4, canvas_size // 2  # Left-side center\n",
    "center_x2, center_y2 = 3 * canvas_size // 4, canvas_size // 2  # Right-side center\n",
    "\n",
    "# Function to generate final random positions for a GIF\n",
    "def generate_random_positions(frame, center_x, center_y, spread_factor):\n",
    "    pixels = list(frame.getdata())\n",
    "    positions = []\n",
    "    width, height = frame.size\n",
    "    for y in range(height):\n",
    "        for x in range(width):\n",
    "            pixel_index = y * width + x\n",
    "            pixel_color = pixels[pixel_index]\n",
    "\n",
    "            # Calculate random final position\n",
    "            spread_x = random.randint(-spread_factor, spread_factor)\n",
    "            spread_y = random.randint(-spread_factor, spread_factor)\n",
    "            final_x = center_x + x - width // 2 + spread_x\n",
    "            final_y = center_y + y - height // 2 + spread_y\n",
    "\n",
    "            # Store the original, final positions, and color\n",
    "            if 0 <= final_x < canvas_size and 0 <= final_y < canvas_size:\n",
    "                positions.append(((center_x + x - width // 2, center_y + y - height // 2), (final_x, final_y), pixel_color))\n",
    "    return positions\n",
    "\n",
    "# Generate final positions for both GIFs\n",
    "spread_factor = canvas_size // 2  # Full canvas spread\n",
    "final_positions1 = generate_random_positions(frame1, center_x1, center_y1, spread_factor)\n",
    "final_positions2 = generate_random_positions(frame2, center_x2, center_y2, spread_factor)\n",
    "\n",
    "def adjusted_logarithmic_interpolation(t):\n",
    "    \"\"\"\n",
    "    Logarithmic interpolation with slower initial growth.\n",
    "    Adjusts the base factor for smoother starting motion.\n",
    "    \"\"\"\n",
    "    base = 100  # Higher base slows down the initial growth\n",
    "    return math.log10(1 + (base - 1) * t) / math.log10(base)\n",
    "\n",
    "# Interpolate positions for intermediate frames\n",
    "for frame_index in range(num_frames + 1):\n",
    "    t_linear = frame_index / num_frames  # Linear interpolation factor\n",
    "    t_log = logarithmic_interpolation(t_linear)  # Convert to logarithmic factor\n",
    "    frame = Image.new(\"RGBA\", (canvas_size, canvas_size), (0, 0, 0, 255))\n",
    "    draw = ImageDraw.Draw(frame)\n",
    "\n",
    "    # Draw pixels for GIF 1\n",
    "    for (orig_x, orig_y), (final_x, final_y), color in final_positions1:\n",
    "        interp_x = int(orig_x + (final_x - orig_x) * t_log)\n",
    "        interp_y = int(orig_y + (final_y - orig_y) * t_log)\n",
    "        draw.point((interp_x, interp_y), fill=color)\n",
    "\n",
    "    # Draw pixels for GIF 2 (overlapping GIF 1)\n",
    "    for (orig_x, orig_y), (final_x, final_y), color in final_positions2:\n",
    "        interp_x = int(orig_x + (final_x - orig_x) * t_log)\n",
    "        interp_y = int(orig_y + (final_y - orig_y) * t_log)\n",
    "        draw.point((interp_x, interp_y), fill=color)\n",
    "\n",
    "    # Save the frame\n",
    "    frame.save(f\"{output_dir}/frame_{frame_index:03d}.png\")\n",
    "\n",
    "print(f\"Interpolated frames for both GIFs with logarithmic motion saved in {output_dir}\")\n",
    "\n"
   ]
  },
  {
   "cell_type": "code",
   "execution_count": null,
   "id": "4c1951f2-e871-4bd4-b74a-f837b28a8a57",
   "metadata": {},
   "outputs": [],
   "source": []
  }
 ],
 "metadata": {
  "kernelspec": {
   "display_name": "Python 3 (ipykernel)",
   "language": "python",
   "name": "python3"
  },
  "language_info": {
   "codemirror_mode": {
    "name": "ipython",
    "version": 3
   },
   "file_extension": ".py",
   "mimetype": "text/x-python",
   "name": "python",
   "nbconvert_exporter": "python",
   "pygments_lexer": "ipython3",
   "version": "3.9.6"
  }
 },
 "nbformat": 4,
 "nbformat_minor": 5
}
