{
 "cells": [
  {
   "cell_type": "code",
   "execution_count": 1,
   "id": "25df4ec6-2995-4017-a3ee-16c264663306",
   "metadata": {},
   "outputs": [
    {
     "name": "stdout",
     "output_type": "stream",
     "text": [
      "pygame 2.6.1 (SDL 2.28.4, Python 3.9.6)\n",
      "Hello from the pygame community. https://www.pygame.org/contribute.html\n"
     ]
    }
   ],
   "source": [
    "import pygame\n",
    "import random\n",
    "from PIL import Image, ImageSequence"
   ]
  },
  {
   "cell_type": "code",
   "execution_count": 2,
   "id": "e696a2f4-a2bf-47ce-9629-9843e6e7fa27",
   "metadata": {},
   "outputs": [],
   "source": [
    "# Initialize Pygame\n",
    "pygame.init()\n",
    "\n",
    "# Load the GIF and extract frames\n",
    "gif_path = \"../gif/dollarspindownd.gif\"\n",
    "gif = Image.open(gif_path)\n",
    "frames = [frame.copy() for frame in ImageSequence.Iterator(gif)]\n",
    "gif_width, gif_height = gif.size\n",
    "\n",
    "# Convert frames to a list of pixel data\n",
    "gif_pixel_data = [\n",
    "    list(frame.convert(\"RGBA\").getdata()) for frame in frames\n",
    "]"
   ]
  },
  {
   "cell_type": "code",
   "execution_count": 3,
   "id": "d1913b7e-0662-4363-80ea-9519183ee62f",
   "metadata": {},
   "outputs": [
    {
     "name": "stderr",
     "output_type": "stream",
     "text": [
      "2024-12-02 18:04:13.167 Python[86414:6708764] +[IMKClient subclass]: chose IMKClient_Modern\n",
      "2024-12-02 18:04:13.167 Python[86414:6708764] +[IMKInputSession subclass]: chose IMKInputSession_Modern\n"
     ]
    }
   ],
   "source": [
    "# Set up the display\n",
    "screen_size = 800\n",
    "screen = pygame.display.set_mode((screen_size, screen_size))\n",
    "pygame.display.set_caption(\"Centered Pixel Animation\")\n",
    "\n",
    "# Calculate offsets to center the GIF\n",
    "offset_x = (screen_size - gif_width) // 2\n",
    "offset_y = (screen_size - gif_height) // 2\n",
    "\n",
    "# Function to assign new random locations to pixels\n",
    "def randomize_pixels(pixel_data, width, height, offset_x, offset_y):\n",
    "    positions = [(x + offset_x, y + offset_y) for x in range(width) for y in range(height)]\n",
    "    random.shuffle(positions)\n",
    "    return [(positions[i][0], positions[i][1], pixel) for i, pixel in enumerate(pixel_data)]\n",
    "\n",
    "# Main animation loop\n",
    "running = True\n",
    "clock = pygame.time.Clock()\n",
    "frame_index = 0\n",
    "\n",
    "while running:\n",
    "    for event in pygame.event.get():\n",
    "        if event.type == pygame.QUIT:\n",
    "            running = False\n",
    "\n",
    "    # Get pixel data for the current frame and randomize locations\n",
    "    current_frame_pixels = gif_pixel_data[frame_index]\n",
    "    randomized_pixels = randomize_pixels(current_frame_pixels, gif_width, gif_height, offset_x, offset_y)\n",
    "\n",
    "    # Clear the screen\n",
    "    screen.fill((0, 0, 0))\n",
    "\n",
    "    # Draw randomized pixels\n",
    "    for x, y, color in randomized_pixels:\n",
    "        pygame.draw.rect(screen, color, (x, y, 1, 1))\n",
    "\n",
    "    # Update the display\n",
    "    pygame.display.flip()\n",
    "\n",
    "    # Move to the next frame\n",
    "    frame_index = (frame_index + 1) % len(frames)\n",
    "    clock.tick(10)  # Adjust FPS for desired animation speed\n",
    "\n",
    "pygame.quit()"
   ]
  },
  {
   "cell_type": "code",
   "execution_count": null,
   "id": "623884d4-4467-4256-a678-80878294bb59",
   "metadata": {},
   "outputs": [],
   "source": []
  }
 ],
 "metadata": {
  "kernelspec": {
   "display_name": "Python 3 (ipykernel)",
   "language": "python",
   "name": "python3"
  },
  "language_info": {
   "codemirror_mode": {
    "name": "ipython",
    "version": 3
   },
   "file_extension": ".py",
   "mimetype": "text/x-python",
   "name": "python",
   "nbconvert_exporter": "python",
   "pygments_lexer": "ipython3",
   "version": "3.9.6"
  }
 },
 "nbformat": 4,
 "nbformat_minor": 5
}
